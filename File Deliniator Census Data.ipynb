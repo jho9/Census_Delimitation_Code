{
 "cells": [
  {
   "cell_type": "code",
   "execution_count": 1,
   "metadata": {},
   "outputs": [],
   "source": [
    "import numpy as np\n",
    "import pandas as pd"
   ]
  },
  {
   "cell_type": "code",
   "execution_count": 2,
   "metadata": {},
   "outputs": [],
   "source": [
    "#Some variables have answers that done like so:\n",
    "#-1 refering to Blank\n",
    "#-2 refering to dont know\n",
    "#-3 refering to refused"
   ]
  },
  {
   "cell_type": "code",
   "execution_count": 3,
   "metadata": {},
   "outputs": [],
   "source": [
    "path = \"/home/jho9/Desktop/nov18pub.dat\""
   ]
  },
  {
   "cell_type": "code",
   "execution_count": 4,
   "metadata": {},
   "outputs": [],
   "source": [
    "f = open(path)"
   ]
  },
  {
   "cell_type": "code",
   "execution_count": 5,
   "metadata": {},
   "outputs": [],
   "source": [
    "lst = []"
   ]
  },
  {
   "cell_type": "code",
   "execution_count": 6,
   "metadata": {},
   "outputs": [],
   "source": [
    "for line in f:\n",
    "    lst.append(line)"
   ]
  },
  {
   "cell_type": "code",
   "execution_count": 7,
   "metadata": {},
   "outputs": [],
   "source": [
    "house_idn = []\n",
    "month = []\n",
    "year = []\n",
    "outcome_of_int = []\n",
    "living_quarters = []\n",
    "housing_type = []\n",
    "telephone_status = []\n",
    "telephone_status_2 = []\n",
    "fam_income = []\n",
    "num_living_household = []\n",
    "household_type = []\n",
    "household_own_business = []\n",
    "region = []\n",
    "region_det = []\n",
    "state = []\n",
    "metropolitain_area = []\n",
    "individual_city = []\n",
    "principal_city = []\n",
    "metropolitan_status = []\n",
    "ind_princi_city = []\n",
    "metropolitan_size = []\n",
    "FIPS_code = []\n",
    "age = []\n",
    "marital_status = []\n",
    "gender = []\n",
    "military = []\n",
    "schooling = []\n",
    "race = []\n",
    "hispanic = []\n",
    "detailed_hispanic = []\n",
    "change_in_household = []\n",
    "family_type = []\n",
    "country_of_birth = []\n",
    "mother_country_birth = []\n",
    "father_country_birth = []\n",
    "citizenship_status = []\n",
    "immigrant_year = []\n",
    "work_for_pay_last_week = []\n",
    "unpaid_work_for_family = []\n",
    "profit_from_family_business = []\n",
    "disability = []\n",
    "presence_of_own_children = []\n",
    "status_of_employment = []\n",
    "for line in lst:\n",
    "    house_idn.append(line[:15])\n",
    "    month.append(line[15:17])\n",
    "    year.append(line[17:21])\n",
    "    outcome_of_int.append(line[23:26])\n",
    "    living_quarters.append(line[28:30])\n",
    "    housing_type.append(line[30:32])\n",
    "    telephone_status.append(line[32:34])\n",
    "    telephone_status_2.append(line[34:36])\n",
    "    fam_income.append(line[38:40])\n",
    "    num_living_household.append(line[58:60])\n",
    "    household_type.append(line[60:62])\n",
    "    household_own_business.append(line[78:80])\n",
    "    region.append(line[88:90])\n",
    "    region_det.append(line[90:91])\n",
    "    state.append(line[92:94])\n",
    "    metropolitain_area.append(line[95:100])\n",
    "    individual_city.append(line[100:103])\n",
    "    principal_city.append(line[103:104])\n",
    "    metropolitan_status.append(line[104:105])\n",
    "    ind_princi_city.append(line[105:106])\n",
    "    metropolitan_size.append(line[106:107])\n",
    "    FIPS_code.append(line[107:110])\n",
    "    age.append(line[121:123])\n",
    "    marital_status.append(line[124:126])\n",
    "    gender.append(line[128:130])\n",
    "    military.append(line[130:132])\n",
    "    schooling.append(line[136:138])\n",
    "    race.append(line[138:140])\n",
    "    hispanic.append(line[156:158])\n",
    "    detailed_hispanic.append(line[140:142])\n",
    "    change_in_household.append(line[142:144])\n",
    "    family_type.append(line[154:156])\n",
    "    country_of_birth.append(line[162:165])\n",
    "    mother_country_birth.append(line[165:168])\n",
    "    father_country_birth.append(line[168:171])\n",
    "    citizenship_status.append(line[171:173])\n",
    "    immigrant_year.append(line[175:177])\n",
    "    work_for_pay_last_week.append(line[181:183])\n",
    "    unpaid_work_for_family.append(line[183:185])\n",
    "    profit_from_family_business.append(line[185:187])\n",
    "    disability.append(line[197:199])\n",
    "    presence_of_own_children.append(line[632:634])\n",
    "    status_of_employment.append(line[392:394])"
   ]
  },
  {
   "cell_type": "code",
   "execution_count": 8,
   "metadata": {},
   "outputs": [],
   "source": [
    "file = []\n",
    "file.append(house_idn)\n",
    "file.append(month)\n",
    "file.append(year)\n",
    "file.append(outcome_of_int)\n",
    "file.append(living_quarters)\n",
    "file.append(housing_type)\n",
    "file.append(telephone_status)\n",
    "file.append(telephone_status_2)\n",
    "file.append(fam_income)\n",
    "file.append(num_living_household)\n",
    "file.append(household_type)\n",
    "file.append(household_own_business)\n",
    "file.append(region)\n",
    "file.append(region_det)\n",
    "file.append(state)\n",
    "file.append(metropolitain_area)\n",
    "file.append(individual_city)\n",
    "file.append(principal_city)\n",
    "file.append(metropolitan_status)\n",
    "file.append(ind_princi_city)\n",
    "file.append(metropolitan_size)\n",
    "file.append(FIPS_code)\n",
    "file.append(age)\n",
    "file.append(marital_status)\n",
    "file.append(gender)\n",
    "file.append(military)\n",
    "file.append(schooling)\n",
    "file.append(race)\n",
    "file.append(hispanic)\n",
    "file.append(detailed_hispanic)\n",
    "file.append(change_in_household)\n",
    "file.append(family_type)\n",
    "file.append(country_of_birth)\n",
    "file.append(mother_country_birth)\n",
    "file.append(father_country_birth)\n",
    "file.append(citizenship_status)\n",
    "file.append(immigrant_year)\n",
    "file.append(work_for_pay_last_week)\n",
    "file.append(unpaid_work_for_family)\n",
    "file.append(profit_from_family_business)\n",
    "file.append(disability)\n",
    "file.append(presence_of_own_children)\n",
    "file.append(status_of_employment)"
   ]
  },
  {
   "cell_type": "code",
   "execution_count": 9,
   "metadata": {},
   "outputs": [],
   "source": [
    "df = pd.DataFrame(file)"
   ]
  },
  {
   "cell_type": "code",
   "execution_count": 10,
   "metadata": {},
   "outputs": [],
   "source": [
    "df = (df.T)"
   ]
  },
  {
   "cell_type": "code",
   "execution_count": 11,
   "metadata": {},
   "outputs": [],
   "source": [
    "column_names = ['Household_id',\n",
    "                'Month', 'Year','Outcome of the Interview',\n",
    "                'Living Quarters', 'Household Type', \n",
    "                'Telephone status', 'Telephone status 2', 'Family Income', \n",
    "                'Number of People Living Household', 'Household Type', 'Household Owns a Business',\n",
    "                'Region of the Interviewer', 'Region in Detail', 'State', 'Metropolitan Area',\n",
    "                'Individual City', 'Principal City', 'Metropolitan Status', 'Individual Principal City',\n",
    "                'Metropolitan Size', 'FIPS Code', 'Age', 'Marital Status', 'Gender', 'Military Service', \n",
    "                'Highest Completed Education', 'Race', 'Hispanic', 'Detailed Hispanic', 'Change in Household',\n",
    "                'Family Type', 'Country of Birth', 'Mother Country of Origin', 'Father Country of Origin',\n",
    "                'Citizenship Status', 'Immigration Year', 'Work for pay last week', 'Unpaid Work for Family',\n",
    "                'Profit from Family Business', 'Disability', 'Presence of Interviewer Children', 'Status of Employment']"
   ]
  },
  {
   "cell_type": "code",
   "execution_count": 12,
   "metadata": {},
   "outputs": [],
   "source": [
    "df.columns = column_names"
   ]
  },
  {
   "cell_type": "code",
   "execution_count": 15,
   "metadata": {},
   "outputs": [],
   "source": [
    "df.to_csv('Processed_Employment_Data.csv')"
   ]
  },
  {
   "cell_type": "code",
   "execution_count": null,
   "metadata": {},
   "outputs": [],
   "source": []
  }
 ],
 "metadata": {
  "kernelspec": {
   "display_name": "Python 3",
   "language": "python",
   "name": "python3"
  },
  "language_info": {
   "codemirror_mode": {
    "name": "ipython",
    "version": 3
   },
   "file_extension": ".py",
   "mimetype": "text/x-python",
   "name": "python",
   "nbconvert_exporter": "python",
   "pygments_lexer": "ipython3",
   "version": "3.7.0"
  }
 },
 "nbformat": 4,
 "nbformat_minor": 2
}
